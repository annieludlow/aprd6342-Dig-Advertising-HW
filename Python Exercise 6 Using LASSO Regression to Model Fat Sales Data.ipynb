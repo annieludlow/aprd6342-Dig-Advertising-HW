{
 "cells": [
  {
   "cell_type": "markdown",
   "metadata": {},
   "source": [
    "# Exercise 6 LASSO Regression \n",
    "#Annie Ludlow"
   ]
  },
  {
   "cell_type": "code",
   "execution_count": 1,
   "metadata": {},
   "outputs": [
    {
     "name": "stderr",
     "output_type": "stream",
     "text": [
      "/Users/annieludlow/anaconda3/lib/python3.6/site-packages/sklearn/cross_validation.py:41: DeprecationWarning: This module was deprecated in version 0.18 in favor of the model_selection module into which all the refactored classes and functions are moved. Also note that the interface of the new CV iterators are different from that of this module. This module will be removed in 0.20.\n",
      "  \"This module will be removed in 0.20.\", DeprecationWarning)\n"
     ]
    },
    {
     "name": "stdout",
     "output_type": "stream",
     "text": [
      "['B01001014' 0.8557908775529921]\n",
      "['B01001036' 2.505392496591849]\n",
      "['B01001037' 0.8894214357013622]\n",
      "['B01001038' 1.5315839680821497]\n",
      "['B02001005' 0.4125408937426837]\n",
      "['B13014026' 0.4800240326923769]\n",
      "['B13014027' 0.6977454940063235]\n",
      "['B13016001' 874922971.7249781]\n",
      "['B19001017' 1.4834465563617387]\n",
      "training data MSE\n",
      "22025.312777378716\n",
      "testing data MSE\n",
      "41549.12573000182\n",
      "training data R-square\n",
      "0.24002827375880997\n",
      "testing data R-square\n",
      "0.17587122769388464\n",
      "y interecept:\n",
      "22.194697684317433\n"
     ]
    }
   ],
   "source": [
    "import pandas as pd\n",
    "import pandas\n",
    "from sklearn.cross_validation import train_test_split\n",
    "from sklearn.linear_model import LassoLarsCV\n",
    "import matplotlib.pyplot as plt\n",
    "\n",
    "#import csv file \n",
    "alldata = pd.read_csv(\"/Users/annieludlow/Desktop/Digital Adv/homeworks/finalmaster-ratios.csv\")\n",
    "\n",
    "#remove first 8 variables\n",
    "allvariablenames = list(alldata.columns.values)\n",
    "del allvariablenames[0:8]\n",
    "\n",
    "#load predictors into dataframe\n",
    "predictors = alldata[allvariablenames] \n",
    "\n",
    "#load target into dataframe\n",
    "target = alldata['# Purchases']  \n",
    "\n",
    " # split data into train and test sets, with 30% retained for test\n",
    "pred_train, pred_test, tar_train, tar_test = train_test_split(predictors, target, test_size=.3, random_state=123) \n",
    "\n",
    "#hide all the convergence warnings\n",
    "import warnings\n",
    "warnings.filterwarnings('ignore')\n",
    "\n",
    "#create model \n",
    "model = LassoLarsCV(precompute=False, cv=10).fit(pred_train, tar_train)\n",
    "\n",
    "predictors_model=pd.DataFrame(allvariablenames)\n",
    "#split the output to show the \"label\" which individually identifies the predictor variable\n",
    "predictors_model.columns = ['label']\n",
    "#calculates the coefficient for each variable and puts them into the model \n",
    "predictors_model['coeff'] = model.coef_\n",
    "\n",
    "#the For loop is extracitng the coefficients that are greater than zero from the model \n",
    "for index, row in predictors_model.iterrows():\n",
    "    if row['coeff'] > 0:\n",
    "        print(row.values)\n",
    "\n",
    "#find mean squared of the train \n",
    "from sklearn.metrics import mean_squared_error \n",
    "train_error = mean_squared_error(tar_train, model.predict(pred_train))\n",
    "print ('training data MSE')\n",
    "print(train_error) \n",
    "#mean squared 41549.12 \n",
    "\n",
    "#find mean squared of the test \n",
    "test_error = mean_squared_error(tar_test, model.predict(pred_test))\n",
    "print ('testing data MSE')\n",
    "print(test_error) \n",
    "#mean squared 41549.15\n",
    "\n",
    "#find r squared for the train\n",
    "rsquared_train=model.score(pred_train,tar_train)\n",
    "print ('training data R-square')\n",
    "print(rsquared_train)\n",
    "# 0.24002827375880997\n",
    "\n",
    "#find r squared for the test\n",
    "rsquared_test=model.score(pred_test,tar_test)\n",
    "print ('testing data R-square')\n",
    "print(rsquared_test)\n",
    "# 0.17587122769388464\n",
    "\n",
    "#print Y intercept \n",
    "print(\"y interecept:\")\n",
    "print(model.intercept_) "
   ]
  },
  {
   "cell_type": "code",
   "execution_count": null,
   "metadata": {},
   "outputs": [],
   "source": []
  }
 ],
 "metadata": {
  "kernelspec": {
   "display_name": "Python 3",
   "language": "python",
   "name": "python3"
  },
  "language_info": {
   "codemirror_mode": {
    "name": "ipython",
    "version": 3
   },
   "file_extension": ".py",
   "mimetype": "text/x-python",
   "name": "python",
   "nbconvert_exporter": "python",
   "pygments_lexer": "ipython3",
   "version": "3.6.5"
  }
 },
 "nbformat": 4,
 "nbformat_minor": 2
}
